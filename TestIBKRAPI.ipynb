{
 "cells": [
  {
   "cell_type": "markdown",
   "metadata": {},
   "source": [
    "# SPX data query "
   ]
  },
  {
   "cell_type": "code",
   "execution_count": 3,
   "metadata": {},
   "outputs": [
    {
     "name": "stdout",
     "output_type": "stream",
     "text": [
      "Error:  -1   2104   Market data farm connection is OK:hfarm\n",
      "Error:  -1   2107   HMDS data farm connection is inactive but should be available upon demand.hkhmds\n",
      "Error:  -1   2158   Sec-def data farm connection is OK:secdefhk\n",
      "Error:  1   200   No security definition has been found for the request\n"
     ]
    }
   ],
   "source": [
    "from ibapi.client import EClient\n",
    "from ibapi.wrapper import EWrapper\n",
    "from ibapi.contract import Contract\n",
    "import threading\n",
    "import time\n",
    "\n",
    "class IBApi(EWrapper, EClient):\n",
    "    def __init__(self):\n",
    "        EClient.__init__(self, self)\n",
    "\n",
    "    def error(self, reqId, errorCode, errorString, extraInfo=None):\n",
    "        print(\"Error: \", reqId, \" \", errorCode, \" \", errorString)\n",
    "        if extraInfo:\n",
    "            print(\"Extra Info:\", extraInfo)\n",
    "\n",
    "\n",
    "    def tickPrice(self, reqId, tickType, price, attrib):\n",
    "        if tickType == 1 or tickType == 2:  # 1 for bid price, 2 for ask price\n",
    "            print(f\"Tick Price. Req ID: {reqId}, Type: {tickType}, Price: {price}\")\n",
    "\n",
    "def run_loop():\n",
    "    app.run()\n",
    "\n",
    "def create_contract():\n",
    "    contract = Contract()\n",
    "    contract.symbol = \"AAPL\"\n",
    "    contract.secType = \"OPT\"\n",
    "    contract.exchange = \"SMART\"\n",
    "    contract.currency = \"USD\"\n",
    "    contract.lastTradeDateOrContractMonth = \"20230616\"  # Format: YYYYMMDD\n",
    "    contract.strike = 200\n",
    "    contract.right = \"C\"  # 'C' for Call, 'P' for Put\n",
    "    contract.multiplier = \"100\"  # Standard SPX options have a 100 multiplier\n",
    "    return contract\n",
    "\n",
    "app = IBApi()\n",
    "app.connect(\"127.0.0.1\", 7497, clientId=1)  # Ensure the correct port and clientId\n",
    "\n",
    "api_thread = threading.Thread(target=run_loop, daemon=True)\n",
    "api_thread.start()\n",
    "\n",
    "time.sleep(1)  # Sleep interval to allow time for connection to be established\n",
    "\n",
    "contract = create_contract()\n",
    "app.reqMktData(1, contract, \"\", False, False, [])\n",
    "\n",
    "time.sleep(10)  # Run for a short while to receive data\n",
    "app.disconnect()\n"
   ]
  }
 ],
 "metadata": {
  "kernelspec": {
   "display_name": "IBTrade",
   "language": "python",
   "name": "python3"
  },
  "language_info": {
   "codemirror_mode": {
    "name": "ipython",
    "version": 3
   },
   "file_extension": ".py",
   "mimetype": "text/x-python",
   "name": "python",
   "nbconvert_exporter": "python",
   "pygments_lexer": "ipython3",
   "version": "3.12.2"
  }
 },
 "nbformat": 4,
 "nbformat_minor": 2
}
